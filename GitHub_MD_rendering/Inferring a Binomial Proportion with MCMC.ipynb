{
 "cells": [
  {
   "cell_type": "markdown",
   "id": "13d4d058",
   "metadata": {
    "toc": true
   },
   "source": [
    "<h1>Table of Contents<span class=\"tocSkip\"></span></h1>\n",
""   ]
  },
  {
   "cell_type": "markdown",
   "id": "f8afbcc3",
   "metadata": {},
   "source": [
    "# Introduction\n",
    "<hr style = \"border:2px solid black\" ></hr>"
   ]
  },
  {
   "cell_type": "markdown",
   "id": "2b405c6a",
   "metadata": {},
   "source": [
    "\n",
    "**What?** Inferring a Binomial Proportion with MCMC\n",
    "\n",
""   ]
  },
  {
   "cell_type": "markdown",
   "id": "d01c24d8",
   "metadata": {},
   "source": [
    "# Binomial proportion\n",
    "<hr style = \"border:2px solid black\" ></hr>"
   ]
  },
  {
   "cell_type": "markdown",
   "id": "d15d2289",
   "metadata": {},
   "source": [
    "\n",
    "- We can estimate the fairness of a coin, by carrying out a sequence of coin flips.\n",
    "\n",
    "- The fairness of the coin is given by a parameter $θ ∈ [0, 1]$ where $θ = 0.5$ means a coin equally likely to come up heads or tails.\n",
    "\n",
    "- We can use a relatively flexible probability distribution, the beta distribution, to model our prior belief on the fairness of the coin. By using a Bernoulli likelihood function to simulate virtual coin flips with a particular fairness, that our posterior belief would also have the form of a beta distribution. This is an example of a conjugate prior, a closed solution is hence known.\n",
    "\n",
    "- We do not need to use MCMC to estimate the posterior in this particular case as there is already an analytic closed-form solution. We are going to apply MCMC to a case where we already \"know the answer\", so that we can compare the results from a closed-form solution and one calculated by numerical approximation.\n",
    "    \n",
""   ]
  },
  {
   "cell_type": "markdown",
   "id": "afc1b50e",
   "metadata": {},
   "source": [
    "# Imports\n",
    "<hr style = \"border:2px solid black\" ></hr>"
   ]
  },
  {
   "cell_type": "code",
   "execution_count": 1,
   "id": "557473e9",
   "metadata": {
    "ExecuteTime": {
     "end_time": "2022-09-16T05:44:43.562489Z",
     "start_time": "2022-09-16T05:44:40.431194Z"
    }
   },
   "outputs": [],
   "source": [
    "import matplotlib.pyplot as plt \n",
    "import numpy as np\n",
    "import pymc3\n",
    "import scipy.stats as stats"
   ]
  },
  {
   "cell_type": "markdown",
   "id": "427e8be8",
   "metadata": {},
   "source": [
    "# Problem input\n",
    "<hr style = \"border:2px solid black\" ></hr>"
   ]
  },
  {
   "cell_type": "markdown",
   "id": "b8c835c1",
   "metadata": {},
   "source": [
    "\n",
    "\n",
    "- The next step is to set the prior parameters, as well as the number of coin flip trials carried out and heads returned. \n",
    "- For completeness, the parameters of the analytically-calculated posterior beta distribution, which we will use for comparison with our MCMC approach. \n",
    "- We'll want to carry out 100,000 iterations of the Metropolis algorithm. In a relatively simple model such as this we do not need to compute 100,000 samples, but this was done just to showcase the speed of the method and to warn the reader that cases are not always that simple.\n",
    "\n",
""   ]
  },
  {
   "cell_type": "code",
   "execution_count": 2,
   "id": "a83048cd",
   "metadata": {
    "ExecuteTime": {
     "end_time": "2022-09-16T05:44:43.568109Z",
     "start_time": "2022-09-16T05:44:43.564903Z"
    }
   },
   "outputs": [],
   "source": [
    "# Parameter values for prior and analytic posterior\n",
    "n = 50\n",
    "z = 10\n",
    "alpha = 12\n",
    "beta = 12\n",
    "alpha_post = 22\n",
    "beta_post = 52\n",
    "# How many iterations of the Metropolis # algorithm to carry out for MCMC \n",
    "iterations = 100000"
   ]
  },
  {
   "cell_type": "markdown",
   "id": "205195b9",
   "metadata": {},
   "source": [
    "# MCMC - Metropolis sampling\n",
    "<hr style = \"border:2px solid black\" ></hr>"
   ]
  },
  {
   "cell_type": "markdown",
   "id": "fb38d2e9",
   "metadata": {},
   "source": [
    "\n",
    "- The PyMC3 API a Python `with` context to assign all of the parameters.\n",
    "- Remember that our particular values of `α = 12` and `β = 12` imply a prior mean `μ = 0.5` and a prior s.d. `σ = 0.1.`\n",
    "- We then define the Bernoulli likelihood function, specifying the fairness parameter p=theta, the number of trials `n=n` and the observed heads `observed=z`, all taken from the parameters specified above.\n",
    "\n",
""   ]
  },
  {
   "cell_type": "code",
   "execution_count": 3,
   "id": "734e5d39",
   "metadata": {
    "ExecuteTime": {
     "end_time": "2022-09-16T05:46:12.525566Z",
     "start_time": "2022-09-16T05:44:43.571429Z"
    }
   },
   "outputs": [
    {
     "data": {
      "text/html": [
       "\n",
       "<style>\n",
       "    /* Turns off some styling */\n",
       "    progress {\n",
       "        /* gets rid of default border in Firefox and Opera. */\n",
       "        border: none;\n",
       "        /* Needs to be in here for Safari polyfill so background images work as expected. */\n",
       "        background-size: auto;\n",
       "    }\n",
       "    .progress-bar-interrupted, .progress-bar-interrupted::-webkit-progress-bar {\n",
       "        background: #F44336;\n",
       "    }\n",
       "</style>\n"
      ],
      "text/plain": [
       "<IPython.core.display.HTML object>"
      ]
     },
     "metadata": {},
     "output_type": "display_data"
    },
    {
     "data": {
      "text/html": [
       "\n",
       "    <div>\n",
       "      <progress value='6' class='' max='6' style='width:300px; height:20px; vertical-align: middle;'></progress>\n",
       "      100.00% [6/6 00:00<00:00 logp = -10.252, ||grad|| = 15]\n",
""       "    "
      ],
      "text/plain": [
       "<IPython.core.display.HTML object>"
      ]
     },
     "metadata": {},
     "output_type": "display_data"
    },
    {
     "name": "stdout",
     "output_type": "stream",
     "text": [
      "\n"
     ]
    },
    {
     "name": "stderr",
     "output_type": "stream",
     "text": [
      "/opt/anaconda3/envs/trainingAI/lib/python3.9/site-packages/deprecat/classic.py:215: FutureWarning: In v4.0, pm.sample will return an `arviz.InferenceData` object instead of a `MultiTrace` by default. You can pass return_inferencedata=True or return_inferencedata=False to be safe and silence this warning.\n",
      "  return wrapped_(*args_, **kwargs_)\n",
      "Multiprocess sampling (4 chains in 4 jobs)\n",
      "Metropolis: [theta]\n"
     ]
    },
    {
     "data": {
      "text/html": [
       "\n",
       "<style>\n",
       "    /* Turns off some styling */\n",
       "    progress {\n",
       "        /* gets rid of default border in Firefox and Opera. */\n",
       "        border: none;\n",
       "        /* Needs to be in here for Safari polyfill so background images work as expected. */\n",
       "        background-size: auto;\n",
       "    }\n",
       "    .progress-bar-interrupted, .progress-bar-interrupted::-webkit-progress-bar {\n",
       "        background: #F44336;\n",
       "    }\n",
       "</style>\n"
      ],
      "text/plain": [
       "<IPython.core.display.HTML object>"
      ]
     },
     "metadata": {},
     "output_type": "display_data"
    },
    {
     "data": {
      "text/html": [
       "\n",
       "    <div>\n",
       "      <progress value='404000' class='' max='404000' style='width:300px; height:20px; vertical-align: middle;'></progress>\n",
       "      100.00% [404000/404000 00:52<00:00 Sampling 4 chains, 0 divergences]\n",
""       "    "
      ],
      "text/plain": [
       "<IPython.core.display.HTML object>"
      ]
     },
     "metadata": {},
     "output_type": "display_data"
    },
    {
     "name": "stderr",
     "output_type": "stream",
     "text": [
      "Sampling 4 chains for 1_000 tune and 100_000 draw iterations (4_000 + 400_000 draws total) took 66 seconds.\n",
      "The number of effective samples is smaller than 25% for some parameters.\n"
     ]
    }
   ],
   "source": [
    "# Use PyMC3 to construct a model context\n",
    "basic_model = pymc3.Model()\n",
    "with basic_model:\n",
    "    # Define our prior belief about the fairness\n",
    "    # of the coin using a Beta distribution\n",
    "    theta = pymc3.Beta(\"theta\", alpha=alpha, beta=beta)\n",
    "    # Define the Bernoulli likelihood function\n",
    "    y = pymc3.Binomial(\"y\", n=n, p=theta, observed=z)\n",
    "    # Carry out the MCMC analysis using the Metropolis algorithm\n",
    "    # Use Maximum A Posteriori (MAP) optimisation as initial value for MCMC \n",
    "    start = pymc3.find_MAP()\n",
    "    # Use the Metropolis algorithm (as opposed to NUTS or HMC, etc.)\n",
    "    step = pymc3.Metropolis()\n",
    "    # Calculate the trace\n",
    "    trace = pymc3.sample(\n",
    "        iterations, step, start, random_seed=1, progressbar=True\n",
    "    )"
   ]
  },
  {
   "cell_type": "markdown",
   "id": "7ab5fd01",
   "metadata": {},
   "source": [
    "\n",
    "- We'll use an histogram for the **trace** using 50 bins.\n",
    "- The trance is the list of all accepted samples of the MCMC sampling.\n",
    "- We'll compare this against the **analytic prio**r and posterior beta distributions using the `SciPy stats.beta.pdf` method.\n",
    "\n",
""   ]
  },
  {
   "cell_type": "markdown",
   "id": "76ffdb7d",
   "metadata": {},
   "source": [
    "# Post-processing\n",
    "<hr style = \"border:2px solid black\" ></hr>"
   ]
  },
  {
   "cell_type": "code",
   "execution_count": 10,
   "id": "a08caba4",
   "metadata": {
    "ExecuteTime": {
     "end_time": "2022-09-16T05:48:45.611699Z",
     "start_time": "2022-09-16T05:48:45.434642Z"
    }
   },
   "outputs": [
    {
     "data": {
      "image/png": "iVBORw0KGgoAAAANSUhEUgAAAXgAAAEJCAYAAACe4zzCAAAAOXRFWHRTb2Z0d2FyZQBNYXRwbG90bGliIHZlcnNpb24zLjUuMSwgaHR0cHM6Ly9tYXRwbG90bGliLm9yZy/YYfK9AAAACXBIWXMAAAsTAAALEwEAmpwYAAA/u0lEQVR4nO3dd3hUVfrA8e9JCEloCSn0EkhCaClAEFlEEQRUXLCsCipWVtcVXUXZ5ae7wq69groWrCvS7K4FFmQXFBRYQBM21CQwQaSFhCSU9JzfHzcZA6RMMnPnTnk/zzNPkrnlvJPy5sy5575Haa0RQgjhewKsDkAIIYQ5JMELIYSPkgQvhBA+ShK8EEL4KEnwQgjho1pYHUBtUVFROiYmxuowhBDCa2zZsuWo1jq6rm0eleBjYmLYvHmz1WEIIYTXUErl1LdNhmiEEMJHSYIXQggfJQleCCF8lEeNwQshGlZeXs7+/fspKSmxOhThZiEhIXTr1o2goCCHj5EEL4QX2b9/P23btiUmJgallNXhCDfRWpOXl8f+/fvp1auXw8fJEI0QXqSkpITIyEhJ7n5GKUVkZGST37lJghfCy0hy90/N+blLghcO0VojpaWF8C6S4EWj9hftZ8jrQ7j6w6slyYuzBAYGkpKSwsCBA7n66qs5deqU1SGxZs0avv/+e6vDsJwkeNGgHbk7+NVbv+J/B37k4x0f88bQAJByEqKW0NBQ0tLSyMjIoGXLlrz22msOHVdRUWFaTM1J8GbGYxVJ8KJe639az3nvnEdZZRkb34AxvcYw48rWZBfVe2e08HMjR44kKyuLL774gmHDhjFo0CAuuugiDh8+DMCcOXOYOnUqI0aMYOrUqdhsNkaOHMngwYMZPHiwPSmvWbOGCy64gEmTJtG7d29mzZrFokWLOOecc0hMTCQ7OxuA3NxcrrrqKoYOHcrQoUP57rvvsNlsvPbaa8ydO5eUlBTWrl1b5351xbNt2zbOOeccUlJSSEpKIjMz05pvpKvUjK16wmPIkCFaeIbKqkrd5bkuOvaFWJ2dn6016H0F+3TYE2H6vFvQFZUVVofol7Zv3251CGdp3bq11lrr8vJyPXHiRP3KK6/o/Px8XVVVpbXW+o033tAzZszQWms9e/ZsPXjwYH3q1CmttdYnT57UxcXFWmutd+/erWtywOrVq3VYWJg+cOCALikp0V26dNEPP/yw1lrrefPm6T/84Q9aa62nTJmi165dq7XWOicnR/ft29fezjPPPGOPsaH9asczffp0vXDhQq211qWlpfbnPUVdP39gs64np8o8eFGn//78Xw4cP8Dij6D3H2KhZ0+6h3XnxUte5KbSm5i7YS4P/OoBq8MUHqC4uJiUlBTA6MHfdttt7Nq1i2uvvZaDBw9SVlZ22tztiRMnEhoaChg3bk2fPp20tDQCAwPZvXu3fb+hQ4fSuXNnAGJjYxk3bhwAiYmJrF69GoBVq1axfft2+zFFRUWcOHHirBgb2q92PMOHD+exxx5j//79XHnllcTHxzv9/bGSJHhxupgYyMnh8zHQYgRc/N98CG1v3zw1aSoLn7uJF9q9wP3D75cpe8I+Bl/b3XffzYwZM5g4cSJr1qxhzpw59m2tW7e2fz537lw6duxIeno6VVVVhISE2LcFBwfbPw8ICLB/HRAQYB8vr6qqYsOGDacdV5eG9qsdz3XXXcewYcP46quvuPTSS5k/fz6jR49u/JvgoWQMXpwuJwe05p9X9uf82NG0r5XcwZiLe/U2Y2bNjqM7LApSeLrCwkK6du0KwLvvvtvgfp07dyYgIID33nuPysrKJrUzbtw4XnrpJfvXNf9o2rZty/Hjxxvd70x79uyhd+/e3HPPPUyaNImtW7c2KR5PIwlenCUrP4vtuduZlDCpzu3jS4w/3BU3nefOsIQXmTNnDldffTVDhgwhKiqq3v1+//vf8+6775KcnMzOnTtP60074sUXX2Tz5s0kJSXRv39/+wyeX//613z66af2i6z17XemDz74gIEDB5KSkkJGRgY33nhjk+LxNEp70Lzm1NRULQt+WEwp5n7/PDNWzmDPPXvo1b7uuhf9X+5P9w07WPGe5/z++IMdO3bQr18/q8MQFqnr56+U2qK1Tq1rf+nBi7P8c9c/SeyQWG9yBxgfO55ve0JxebEbIxNCNIUkeHGavFBYt29dvcMzNS6Ou5iSIPgm5xs3RSaEaCpJ8OI0y+OhUlcyMWFig/ud3/N8QsphRdYKN0UmhGgq0xK8UipBKZVW61GklLrXrPaEa/wzATq36cyQLkMa3C80KJTzc2BFtiR4ITyVaQlea71La52itU4BhgCngE/Nak84r0pXsTIWLutzGQGq8V+Ni7Ngx9Ed7Cvc54bohBBN5a4hmjFAttZaiph4sOz8bIpC4Nxu5zq0/3ijHIgM0wjhodyV4CcDS+raoJS6XSm1WSm1OTc3103hiLqkH04HILljskP798uFbu26yTCNlWJiQCnXPaRSqE8xPcErpVoCE4EP69qutX5da52qtU6Njo42OxzRgLRDaQRWwYAOAxzaXwEX9b6Ib3O+lTrxVqm+89hlj5zG32Q7W//dZrOxePHiZr3cX/3qV806robWmtGjR1NUVAQYd2bfcMMN9u0VFRVER0dz2WWX2Z9bvnw5qamp9O/fn0GDBnH//fcDxs1cSimysrLs+86bNw+lFDX385w4cYI77riD2NhYhgwZwqhRo9i4cSNlZWWcf/75ppcodkcP/hLgB631YTe0JZyQfjidvkchpEXDdT1qG9xpMLmncjl44qCJkQlP0tz67zWak+BrEmFTarzXlTyXLVtGcnIy7dq1A4w6NBkZGRQXG/dzfP311/YSCwAZGRlMnz6dhQsXsn37djZv3kxcXJx9e2JiIkuXLrV//eGHHzJgwC8dpGnTphEREUFmZiZbtmzhnXfe4ejRo7Rs2ZIxY8bw/vvvO/x6msMdCX4K9QzPCM+SdiiNlENNOKBnT1Kuucc49pJB5gQlPFpN/ff8/Hwuv/xykpKSOPfcc+01XL755htSUlJISUlh0KBBHD9+nFmzZrF27VpSUlKYO3culZWVzJw5k6FDh5KUlMT8+fMBoyb8yJEjmThxIv379wegTZs2gNETnzlzJgMHDiQxMdGeKOs6prZFixYxadLp93hceumlfPXVVwAsWbKEKVOm2Lc9/fTTPPTQQ/Tt2xcw3r3ceeed9u2XX345//znPwHIzs4mLCzMXpohOzubjRs38uijjxIQYKTaXr16MWHCBPuxixYtavb33hGmJnilVGtgLPCJme0I5+WdymN/0X6Sm5LgbTaSdxcCkBZwxJzAhMeqqKhg+fLlJCYmMnv2bAYNGsTWrVt5/PHH7TVcnn32WV5++WXS0tJYu3YtoaGhPPnkk4wcOZK0tDTuu+8+3nrrLcLCwti0aRObNm3ijTfeYO/evQD88MMPvPDCC6eVEQb45JNPSEtLIz09nVWrVjFz5kwOHjzY4DEA3333HUOGnD4FePLkySxdupSSkhK2bt3KsGHD7NsyMjLO2r+2du3a0b17dzIyMli6dCnXXnutfdu2bdtISUkhMDCwzmMHDhzIpk2bGvoWO83UBK+1Pqm1jtRaF5rZjnBezQXWJvXggXbB7YhtH8uPnUwISnikmvrvqamp9OjRg9tuu41169YxdepUAEaPHk1eXh5FRUWMGDGCGTNm8OKLL1JQUECLFmdXKF+5ciULFiwgJSWFYcOGkZeXZ19J6ZxzzjmtlnyNdevWMWXKFAIDA+nYsSMXXHCBPVnWdwxAfn4+bdu2Pe25pKQkbDYbS5Ys4dJLL23y96PmH8Rnn33GFVdc4fBxgYGBtGzZ8rSql64m9eAFAOl3/QaGQXJQtyYfm9IphbRO2SZEJTxRXfXf6zNr1iwmTJjAsmXLGDFiBCtWnD3jSmvNSy+9xPjx4097fs2aNU2uLgk0eEyLFi2oqqqyD5nUmDhxIg888ABr1qwhLy/P/vyAAQPYsmULycn1zyy77LLLmDlzJqmpqfax/Zpj09PTqaysrLcXX1pa2mgte2dIqQIBQFrwMTq36UyHnT81+diUTilkRUJRaZEJkYkG9ezp2mmSPXs2K4yRI0fax5PXrFlDVFQU7dq1Izs7m8TERP70pz8xdOhQdu7ceVat9vHjx/Pqq69SXl4OwO7duzl58mSj7b3//vtUVlaSm5vLt99+yznnnNNonAkJCezZs+es52+99VZmz55NYmLiac/PnDmTxx9/3D7cU1VVddZF5VatWvHUU0/x0EMPnfZ8bGwsqampzJ492z7LzGaz2cf78/LyiIqKIigoqNG4m0t68AKA9E6Q3Mmx+e9nGtTJuMC69fBWzushNeLdymazOgLAmDJ46623kpSURKtWreyLfMybN4/Vq1cTEBDAgAEDuOSSSwgICCAwMJDk5GRuvvlm/vCHP2Cz2Rg8eDBaa6Kjo/nss88abO+KK65g/fr1JCcno5Ti6aefplOnTuzcubPB4yZMmMCaNWtOmwkD0K1bN+65556z9k9KSmLevHlMmTKFU6dOoZQ6bQpljcmTJ9fZ3ptvvsn9999PXFwcoaGhREVF8cwzzwCwevVq+wVX09S3WKsVD1l02xqlFaU66C/oWV/Patbx+wv3a+agX9r4kosjE2fyxEW3vcmBAwf0RRddZHUYWmutr7jiCr1r164mHdPURbdliEawI3cH5YHN78F3aduFqJPw48EfXRyZEK7VuXNnfvvb39pvdLJKWVkZl19+OX369DG1HRmiEaQdSgOMsfTmUEox6BCkHU5zWUxCmOWaa66xOgRatmzpluUApQcvSD+cTmg5xEfEN/scKYcg40gG5ZXlLoxMCOEMSfCCtENpJB6GwIC6p3I5IuUQlFWWsePoDhdGJoRwhiR4P6e1Jv1wOslOVgoaVF2Kpma4RwhhPUnwfu7IySPkF+cz0MlKA33yILRFqFxo9QOOVpN0tvKjcJ4keD+XlW+UOo3Pa2THRgT26EmirZi0pfOkpriPa6yapKsqPwrnSYL3c5n5Rs2PuHwnT2SzkTLxdtL7tUc7UFNc+IaaapJmVH4UzpNpkn4uKz+LQBVITEGl0+fqF92PYyXHyG0NHVwQm2jcqFFnP3fNNfD738OpU1BX7aybbzYeR4/Cb35z+rY1axxvu6aa5MUXXwwYVRwzMjLOKvRVu/Lj0aNHGTp0KOeff36DxwjXkB68n8vKzyImPIagKufP1TfKqJm9K9L5cwnPVVc1SXB95UfhPOnB+7nM/EziI+MB56tBJkQmALAzCkY6fTbhiIZ63K1aNbw9KqppPfYa9VWTdHXlR+E86cH7Ma01WflZxLWPa3xnB/QI60FIixB2RbnkdMJHNLfyo3CeJHg/lnsql6LSouoevPMCAwKJj4hnpyR4UcsVV1xBUlISycnJjB492l75UZhPhmj8WM0UybgI1/TgwRiH/zHyfy47n/A8J06cOOu5UaNGMeqMK741+ymleOaZZ+xlchs6RriW2WuyhiulPlJK7VRK7VBKDTezPdE0ZiT4hMgE9raH0opSl51TCNE8Zg/RvAD8S2vdF0gGpFCJB8mccw+BVRDTMaHZK/mcqW9UXyoDIPuYLOEnhNVMS/BKqTDgfOAtAK11mda6wKz2RNNlBRbSM7I3LSu0y1YGSogyZtLsOrrLJecTQjSfmT34XkAu8I5S6kel1JtKqbPmRCmlbldKbVZKbc7NzTUxHHGmzEjnSgTXpU+ksYDBzqMNL50mhDCfmQm+BTAYeFVrPQg4Ccw6cyet9eta61StdWp0dLSJ4YjatNZkRbh2/B2gXXA7uhTBrjzpwQthNTMT/H5gv9Z6Y/XXH2EkfOEB8orzKAxxfQ8eIOFkMDu/eheUksJjQljItASvtT4E/KSUSqh+agyw3az2RNNk5lUXGXNxDx6g769vZVdcOLqqCqTwmM9xtFxwfWw2G4sXL25W280pQVxcXMwFF1xAZeUv9ZbmzZtHSEgIhYWFzYqjxqhRo9i8eXO92wsKCnjllVfsXx84cIDfnFkA6AyTJ08mMzPTqbhqmD2L5m5gkVJqK5ACPG5ye8JB9jLBLrrJqbaEyAQKSgo4ctLJIvPCIzVWLrgxzUnwzpQgfvvtt7nyyisJDPxlxbIlS5YwdOhQPvnkkybF0VRnJvguXbrw0UcfNXjMnXfeydNPP+2S9k1N8FrrtOrx9SSt9eVa62Nmticcl5mfSUAVxITHuPzc9qJjMg7v82rKBefn53P55ZeTlJTEueeey9atWwH45ptvSElJISUlhUGDBnH8+HFmzZrF2rVrSUlJYe7cuVRWVjJz5kyGDh1KUlIS8+fPB+ouJ9ycEsSLFi1i0qRJ9pizs7M5ceIEjz76KEuWLLE//49//IMrr7ySiy++mPj4eP74xz/at915552kpqYyYMAAZs+efdb34e233+bee++1f/3GG29w3333MWvWLLKzs0lJSWHmzJnYbDYGDhwIQGVlJQ888AADBw4kKSmJl156yf49XbVqlUtq5MudrH4qKz+LnoXQMrCly89de6rk+S4/u6hx77/udfkSiSmdUph38TyH9q1dLnj27NkMGjSIzz77jP/85z/ceOONpKWl8eyzz/Lyyy8zYsQITpw4QUhICE8++STPPvssX375JQCvv/46YWFhbNq0idLSUkaMGMG4ceMA50sQl5WVsWfPHmJqXQtaunQpkydPZuTIkezatYvDhw/TsWNHANLS0vjxxx8JDg4mISGBu+++m+7du/PYY48RERFBZWUlY8aMYevWrSQlJdnPec011/DYY4/xzDPPEBQUxDvvvMP8+fNp27YtGRkZ9uJstlrTkV9//XVsNhtpaWm0aNGC/HxjUYaAgADi4uJIT09nyJAhDv/s6iK1aPxUVn6W06s41aem6JhMlfRNdZULXrduHVOnTgVg9OjR5OXlUVRUxIgRI5gxYwYvvvgiBQUFtGhxdp9y5cqVLFiwgJSUFIYNG0ZeXp59DNrZEsRHjx4lPDz8tGOXLFnC5MmTCQgI4KqrruLDDz+0bxszZgxhYWGEhITQv39/cqqvIX3wwQcMHjyYQYMGsW3bNrZvP/1yYps2bRg9ejRffvklO3fupLy8nMTExAa/j6tWreKOO+6wf08iIiLs2zp06MCBAwcaPN4R0oP3Q1prMvMzuc7ZVZzqEaAC6BPZR4ZoTOZoT9vV6isXXJdZs2YxYcIEli1bxogRI1ixYsVZ+2iteemllxg/fvxpz69Zs8bpEsShoaGUlJTYv/7f//5HZmYmY8eOBaCsrIxevXoxffp0AIKDg+37BgYGUlFRwd69e3n22WfZtGkT7du35+abbz7tnDWmTZvG448/Tt++fbnllluaHHdtJSUlhIaGOnUOkB68X8ovzqegpMD5Zfoa0Deqr/Tg/cjIkSNZtGgRYCTmqKgo2rVrR3Z2NomJifzpT39i6NCh7Ny5k7Zt23L8+HH7sePHj+fVV1+lvLwcgN27d3Py5MlG23OkBHH79u2prKy0J+QlS5YwZ84cbDYbNpuNAwcOcODAAXtPvS5FRUW0bt2asLAwDh8+zPLly+vcb9iwYfz0008sXryYKVOmAJz1WmsbO3Ys8+fPt4+11wzR1HwPasbqnSEJ3g/tLdgLQG8TL3knRCawt2AvZYGN7yu835w5c9iyZQtJSUnMmjWLd999FzCmI9ZcRAwKCuKSSy4hKSmJwMBAkpOTmTt3LtOmTaN///4MHjyYgQMHcscddzR6gbEpJYjHjRvHunXrAGP8/YorrjjrXEuXLq23reTkZAYNGkTfvn257rrrGDFiRL37XnPNNYwYMYL27dsDEBkZyYgRIxg4cCAzZ848bd9p06bRo0cP++uomVl0+PBhQkNDXVNSWWvtMY8hQ4ZoYb6Ptn2kmYNO64hpbSxIW6CZg94VaV4b/mj79u1Wh+B1tmzZom+44Qa3tDVhwgS9atUqp87x/PPP6zfffLPObXX9/IHNup6cKj14P2QrsAHQ07l7PBpUcwNVVkQjOwphssGDB3PhhReedqOTqxUUFNCnTx9CQ0MZM2aMU+cKDw/npptucklccpHVD9kKbIQFhxFeYl6GlwQvPMmtt95q6vnDw8PZvXu3S87l7AXa2qQH74dshTZTbnCqLapVFO2C25EpCd7ljHflwt805+cuCd4P2QrMT/BKKeIi4qQH72IhISHk5eVJkvczWmvy8vIICQlp0nEyRONntNbkFOQwppdz44SOiIuI44eIH0xvx59069aN/fv3I2sn+J+QkBC6devWpGMkwfuZYyXHOF52nJ5hrlmiryFx7eP4JBzKK8sJCgwyvT1/EBQUVOednULURYZo/IztvAEAxNw6w2XrsNYnLiKOikDYV7jP1HaEEHWTBO9nbMWHAIj5zw8uW4e1PrERscAvpYmFEO4lCd7P2MKNj2ZfZIVaUyUlwQthCUnwfsYWDm1btiU8JNz0tjq36UxouSR4IawiCd7P5IQZvXellOltKaWIy4esY5LghbCCJHg/Ywt3z/BMjbiSULK++1IW3xbCApLg/YjW2v0Jfsp09nRqSeU+WXxbCHczdR68UsoGHAcqgQqtdaqZ7YmGFZQUUBTi5gQfEUdZZRn724H5M++FELW540anC7XWR93QjmiEvYqkG25yqlG76JgkeCHcS4Zo/EhNgnd3Dx6kqqQQVjA7wWtgpVJqi1Lq9rp2UErdrpTarJTaLPU1zJVTaIyDuzPBd2vXjeDAYEnwQljA7AR/ntZ6MHAJcJdS6vwzd9Bav661TtVap0ZHR5scjn+zFdhoUwoRoe7LtgEqgN7te0uCF8ICpiZ4rfXP1R+PAJ8CZ6+KK9zGVmCjZyFumQNfm5QNFsIapiV4pVRrpVTbms+BcUCGWe2JxtkKbMQUuL/duIg4siOgSle5v3Eh/JiZPfiOwDqlVDrwX+ArrfW/TGxPNMLKBF8cBAePH3R/40L4MdOmSWqt9wDJZp1fNE1BSQGFpYWWJXiA7GPZdG3X1f0BCOGnZJqkn8gpMGbQ9Cxwf9ux7aVssBBWkATvJ2qmSPYsdH/bPcJ6EFgF2fnZ7m9cCD8mCd5P1Kyq1MOCBB8UGERMgVSVFMLdJMH7iZyCHIIDg+lw0pr2Y/OlBy+Eu0mC9xM5hTn0COtBgLam/bh8Ywxea4sCEMIPSYL3E/sK99EjrIdl7cceg8LSQvKL8y2LQQh/IwneT+QU5ri1iuSZ4qrzusykEcJ9HErwSqlPlFITlFLyD8ELlVaUcujEIWt78NUJPvuYjMML4S6OJuxXgOuATKXUk0qpBBNjEi72U9FPAPQMt64H37ttdwCyp18vy/cJ4SYOJXit9Sqt9fXAYMAGrFJKfa+UukUpFWRmgMJ59imSFvbgQ7P30bVtV7LuuxFyZPk+IdzB4SEXpVQkcDMwDfgReAEj4X9tSmTCZex3sVo4Bg8QGxErUyWFcCNHx+A/BdYCrYBfa60naq3f11rfDbQxM0DhvJy/3ofS0K1DHPS08EJr+zi5yCqEGzlabOwNrfWy2k8opYK11qWykLbn20chndp2JrjigKVxxEbEcvjkYU60lF6BEO7g6BDNo3U8t96VgQjz5IRZe4G1hr2qZHuLAxHCTzTYg1dKdQK6AqFKqUFAzVJA7TCGa4QX2BcGgy28wFqjpqpkdoTUkRbCHRobohmPcWG1G/B8reePAw+aFJNwoSpdxb4wuMLiC6xgDNGA9OCFcJcGE7zW+l3gXaXUVVrrj90Uk3ChIyePUNbC2imSNcJDwokMjSQrIs/qUITwC40N0dygtV4IxCilZpy5XWv9fB2HCQ/iKVMka8RGxJItCV4It2jsImvr6o9tgLZ1PBqllApUSv2olPqy2VGKZvOEm5xqi4uIIyvC6iiE8A+NDdHMr/74Vyfa+AOwA+PCrHAz+0pOHjCLBowLrUvbGfVxglsEWx2OED7N0RudnlZKtVNKBSml/q2UylVK3eDAcd2ACcCbzgYqmienIId2Jcb4tyeIi4ijKgBsBTarQxHC5zk6D36c1roIuAyjFk0cMNOB4+YBfwSqmhOccN6+on2WLNNXn5q58Jn5mRZHIoTvczTB1wzlTAA+1Fo3mjKUUpcBR7TWWxrZ73al1Gal1Obc3FwHwxGOyinIsWSh7fr0iewDQGaeJHghzOZogv9SKbUTGAL8WykVDZQ0cswIYKJSygYsBUYrpRaeuZPW+nWtdarWOjU6OroJoQtH7Cv0rB58ZGgk4cXSgxfCHRyqRaO1nqWUehoo1FpXKqVOApMaOeb/gP8DUEqNAh7QWjc6bi9c53jpcY6VHKNngdWR/EIpRXy+dyX4r7+GXbugZUu44AJIkNUQhJdwtNgYQF+M+fC1j1ng4niEC9mnSHpQDx4gPg++89Ahmn374MUX4Ztv4PvvISgIFiyAhbXeeyYkwOWXw9/+ZiR9ITyVo7No3gOeBc4DhlY/HK4iqbVeo7W+rFkRimazT5H0tASfb/zzKalobJTPfcrL4emnoV8/eOkliIqCo0eNba+8Arm5kJUFf/87dO9u/COoSe5aWxe3EA1xtAefCvTXWn6VvUnNVMSYAkvDOEt8Hmg0e47toX90f6vDIScHJkyAbdtg0iR44YXTy+a3bWs8oqLgrruMR81fwo4dcMst8Pbb0N/6lyLEaRy9yJoBdDIzEOF6tgIbLQNb0umE1ZGcLr6l8auUOXKAR6zP2q0bjBoFn38On33m2Jooqrqu6qFDsHcvnHcefPedmVEK0XSOJvgoYLtSaoVS6vOah5mBCefZCmz0DOtJgIe974pfux2AzLefsXR91o8+gp9+gsBAY+jl179u+jkuvBA2bDB69xddZPyDEMJTODpEM8fMIIQ5cgpziAmPATzrgmb70PZEtYpid95uy2J4/XW44w64/XaYP9+5c/XqZfTeL7sMrroKvvwSLrnENXEK4QyHevBa628w7mANqv58E/CDiXEJF7AV2KoTvOeJj4i3bKrksmVw551GEn7hBdecMzoa/vMfeOQRo1cvhCdwdBbNb4GPgJq+TlfgM5NiEi5wKrYHR04eIeaZNyxdaLs+8ZHxltzNmp4O114LycnwwQcQEuK6c7duDQ8+aJzz2DHYs8d15xaiORwdg78L487UIgCtdSbQwayghPNyin4CoOffF4LNZm0wdYiPiOfn4z9zKsi97c6aBWFh8MUX0Maklb+1NubJjx//y1RLIazgaIIv1VqX1XxRfbOTh126E7XZwo2PnjxEA7i9NvySJbBqFXTtal4bSsGTTxoXcK+/Hqqk1J6wiKMJ/hul1IMYi2+PBT4EvjAvLOEsj0/wkUaCz3RTgv/Xv6C4GMLDoW9f89sbPhzmzoWVK40bp4SwgqMJfhaQC/wPuANYBvzZrKCE83LCISggiM5tO1sdSp1qevCZkea3tX69McPlr84sW9MMv/udMfXyj3+ErVvd27YQ4HixsSql1GfAZ1prqenrBWzhxipOAcrR/+Hu1Ta4LR1bdyQz4rCp7RQVGcMk3bvD//2fqU2dRSl46y2YPh3at3dv20JAIz14ZZijlDoK7AJ2Va/m9LB7whPNZQv33OGZGvGR8ab34O+7z7iXauFC4+Kqu0VHw/vvG/9ghHC3xrp392HMnhmqtY7QWkcAw4ARSqn7TI9ONJstHGLCYqwOo0F9IvqYOgb/zTdGjZiZM2HECPPaccTBgzBxImzebG0cwr80luCnAlO01ntrntBa7wFuAG40MzDRfMXlxRxu4zkLbdcnPjKeQ22NuvVm6NABrrsOHvaA95utWhnJ/Xe/g8pKq6MR/qKxBB+ktT5rJm/1OLybZzALR9XUgff4IZqaC60m3dHarx8sWmQkV6uFhcG8ebBlC7z8stXRCH/RWIIva+Y2YSF7mWAPT/AJUcbSSLuO7nLpebOyYOpUOGzu9dsmu/pq4+anP/8Zfv7Z6miEP2gswScrpYrqeBwHEt0RoGg6b0nw8RHxBFTBjqM7XHree+4xSv962lCIUsbiIeXlnjFsJHxfg9MktdaB7gpEuI6twEZQJXRu45lz4GsEtwgm9phrE/y//gXLl8Pzz0OXLi47rcv07m388xk61OpIhD9oypqswkvYCm30KITAAM///9wvF3bkuibBV1TAAw9AXJyx6pKnGjvW+FhZafTqAzzzVgXhA0z71VJKhSil/quUSldKbVNKufk+Qv+VU5Djccv01affUdidt5uKqgqnz/XWW8aye8884/mLYR88CIMHw9KlVkcifJmZfYdSYLTWOhlIAS5WSp1rYnuimq3ARs8Cq6NwTD8dSXlVOXs6BDm9fN+kSfDUU8ZHT9exI7RoYVS3LC62Ohrhq0xL8NpQsxpoUPVDKlCarKSihIMnDnpND77vP74CYMe6z5xevq9TJ6PuS816qZ4sIACee86oODl3rtXRCF9l6uifUipQKZUGHAG+1lpvrGOf25VSm5VSm3NzpcyNs+xz4AusjcNRfaOM0o7OXGj9+WcYN84YnvEmo0b98q4jL8/qaIQvMjXBa60rtdYpQDfgHKXUwDr2eV1rnaq1To2OjjYzHL9gnyJZYGkYDgsLCaNL2y5OJfhHHoE1azzjhqameuwxOH4cXnvN6kiEL3LLLBqtdYFSajVwMZDhjjb91Z5jxjpxvQqsjaMp+kX1Y+fRnc06NivLuLh6xx3G4tfeZsAAYwGSkSOtjkT4IjNn0UQrpcKrPw8FxgLN+ysWDst66k+ElEOX9j2sDsVh/aL6sSN3R7Mu0MyZA0FB8NBDro7KfUaPNl6Dp92YJbyfmUM0nYHVSqmtwCaMMfgvTWxPANmBRcR2GUCAzbkLlu7UN6ovx8uOc6Bt047LyIDFi407Vzt79j1djVqzxngHIgt1C1cybYhGa70VGGTW+UXdsiIgNiLW6jCapF90PwB2RENTlkrt3RuefhpuvdWcuNypTx9jge45c2DBAqujEb5C7qHzIVprsiMgrn2c1aE0Sb+o6gQf1bTjWrUy7lyNcPPC3Wbo0sVY+WnRItjl2tprwo9JgvchB08cpDgI4iK8K8F3atOJsOAwdjRhEtW998LHH5sWkiVmzoSQEHj0UasjEb5CErwPycrPArxviEYpRb/ofg734H/4AV54AXa4tgil5aKjjV784sWwd2/j+wvRGEnwPqQmwXtbDx6qZ9I42IP/61+NRazvvtvcmKzwwANGRUwnqzYIAUiC9ynZ+dm0qIQeYd4zRbJG36i+HG4Dx4qPNbjfDz8Y5XZnzLBmEW2zRUcb1Sa9odyC8HyS4H1I1rEsYgqgRYD3VYG2X2ht5I5WX+691zZ7Ntx+u9VRCG8nCd6HZOVnEZdvdRTNM6DDAAAyjjR8o/PkyUY5YF/svdd26pRxh+7u3VZHIryZJHgfobUmOz+b2IZHODxWTHgMbUsh/VB6g/tNmQK33eamoCx0//1GTfsnnrA6EuHNJMH7iLziPApLC722Bx+gAkg+BOmH607w27cbye7EiTo3+5xOnYwhmvfekxk1ovkkwfsI+wwaL03wAMmHjQRfpavO2vboo/D441BaakFgFvnjHyEwEJ580upIhLeSBO8jsvOzAYj15gRfHsGJshPsTep+2vO7d8P778Pvfw+RkRYFZ4GuXY0ywr5+QVmYRxK8j8jKz0KhvKpM8JmS31kOQHrlgdOef/xxCA42xqX9zS23wMCzVlEQwjGS4H1E1rEsuod1J8T5tastM7DDQAJUAOkdf3luzx5YuNCo996hg3WxWWnvXrjhBjh0yOpIhLeRBO8jsvOziW3vXSUKztQqqBXxEfGkd/rluZISYzm+mTOti8tqlZWwZImxhqsQTSEJ3kdk5Wd5ZYmCMyV3Sj6tB9+/PyxbZlRb9Fdxccb00FdfNUoKC+EoSfA+oKi0iNxTub6R4DsmY2sPhSWFfPwx/PST1RF5hgcfhJMnjSJrQjhKErwPsM+g8fIhGjASPMCanVu54QZjAQxhvJO56ip48UUoKLA6GuEtvK9oiTiLN1eRPFNyJyPB//3DdMrKRvKnP1kckAf585+NKpNVZ98mIESdJMH7gJ0P/hYGQ1yPFOjZ0+pwnNK1bVciTinWZKVz7bXGUnbCkJJiPIRwlGlDNEqp7kqp1Uqp7UqpbUqpP5jVlr/b1rKQXuG9aF2mwWazOhynKKVodyiGisg0HnrI6mg808qVxo1fQjTGzDH4CuB+rXV/4FzgLqVUfxPb81vboqF/tO98a8MP9yCwcwYJ/bx4Ur+Jnn0W7rnHqDgpRENMS/Ba64Na6x+qPz8O7AC6mtWevyqvLGdXFAyIHmB1KC5z76FvqAwoITMv0+pQPNLDD8ORI/D661ZHIjydW2bRKKVigEHAxjq23a6U2qyU2pybm+uOcHxKVn4W5YG/1FP3ZkVFsGWLUXQMIO1QmqXxeKrzzoMLL4SnnoLiYqujEZ7M9ASvlGoDfAzcq7UuOnO71vp1rXWq1jo1OtrBRTmF3fbc7YBv9OBffhlSU6HlkVhCW4Sy8eez+gOi2l/+YpQueOstqyMRnszUBK+UCsJI7ou01p+Y2Za/2pa7DaWhX3Q/q0NxyokTxq34EyZA/+4VpGYXs+HjF2T16XqMGgVXXw1t2lgdifBkZs6iUcBbwA6t9fNmtePvtuVuI6bAqOPizV5+GfLyjJ4pNhvnTpnJDz2CKPk5x+rQPJJS8MEHcPPNVkciPJmZPfgRwFRgtFIqrfpxqYnt+aVtR7Yx4IjVUTjn+HF4+mm45BIYNsx4bni34ZRXlfNjp4aP9Xfl5bBggVGUTYgzmXajk9Z6HaDMOr8wZtDsztvNZV5+bfrHH6GiAv7611+eO7fbuQCs7w7DLYrLG3z/Pdx0ExQWysIg4mxSi8aLZeZnUl5V7vU9+PPPh59/hqFDf3muc9vO9AzryYZu1sXlDc4/33g88YTMqBFnkwTvxewzaLy4B5+ZCVrXfbFwePfhrJcE3yCljHc+Bw/KvHhxNknwXmzbkW0oFH29tEZ4QQGccw488EDd28/tei77w2B/0X63xuVtRo0y5sU/+aTc3SpOJwnei23L3Uav9r1oVW51JM3z3HNGkp86te7tw7sbo+8b9m9wX1Be6m9/g6goY6hLiBqS4L3YttxtXnuD0+HDMHcuXHNN/RUSUzqlEFwhCd4R550H6ekQH291JMKTSIL3UmWVZezO2+21Cf6xx4ypfY88Uv8+LQNbMuQArN+/3n2BebGAAGM2zapVVkciPIUkeC+VmZdJRVWFV9agKSuDFSvg1lsbr/d+7n7YcmALZZVl7gnOy82YAZdfbrxDEkISvJfafs0oAAaMn+p1i3y0bAlbtxo3NzVm+H4orSyVwmMOmjXLeGf02GNWRyI8gSR4L7U14CgBKoCEfSe9apGPQ4eM+drBwRAe3vj+w6sX3f5u33emxuUr4uPhttvgtddg716roxFWkwTvpTZ2g8QOiV5Xg+a224ypkY6uK9r1OPSJ7MPXe742NzAf8vDD0KIFPPig1ZEIq0mC90JVuoqNXWFY12FWh9IkK1fCsmVGgawAR3/zevZk3LLdrNmxnNLe3jUUZZWuXY17C44fN653CP8lCd4L7Tq6i6KQX+q1eIPKSrj/fujdG6ZPb8KBNhvj531BcRCsY59p8fma2bPhyy+N6x3Cf0mC90I1C2EM6+Y9Pfi334aMDGMVouDgph07KmYUQQFBrIw1JzZfFBhofNyzB76Tyxd+SxK8F9q4fyPtSqBvVF+rQ3HYihUwYgRcdVXTj23Tsg0jeoxgRZzr4/J1U6bADTdIOWF/JQneC238eSNDD0CA8p4f34cfwhdfGMWxmmNc73Gkd4JDJw65NjAf98QTxiSr556zOhJhBe/JEAKAU+Wn2Hp4K8O8pP7W3r1w4ICR2Nu3b/55xseNB+DrbJlN0xSjRxvvmh57zKtm0woXkQTvZX44+AOVupJzvSDBa21Mixw+3FjQwxkpnVKIPgkr96x0TXB+ZO5cY9bSvfdaHYlwN9NWdBLm2Li/+gKrF1QNXLoUVq+GV14x5mU7I0AFMDYbVnZYSZWu8qrhKat1727UjLfZjH+0zv4shPcwc9Htt5VSR5RSGWa14Y82/LyBmPAYOpy0OpKGFRUZ0yJTU+H2211zznHZcOTkEdIPpbvmhH7k/vvhpZckufsbM7tB/wAuNvH8fmnj/o1ecYPTQw8ZZQleeeWXKXvOGlfaFYDl1w6GmBjXnNTPfP89/P3vVkch3MW0BK+1/hbIN+v8/ujg8YP8VPSTxyf4qio4edJYBLr2OqvO6rxjP8O6DuP965IgJ8d1J/Yjb71ljMVv3mx1JMIdLB/IVErdrpTarJTanJvrxYuLusHGCckADLt2hkdXkAwIMG5smjvX9ee+PvF6th7eSkYH15/bHzz3HHTsCLfcAqWlVkcjzGZ5gtdav661TtVap0ZHR1sdjkf7PiSXoIAgBmWf8tg5b/PmGSsLQRPqzTTBtQOvJVAFsijR9ef2B+HhxuLcGRlSUtgfWJ7gheOWxcPIniMJDQq1OpQ6rV1rLDjx5pvmtdGhdQfGxY5jcaJRdE003YQJxjq4jz8O27dbHY0wkyR4L7H32F62dYDL4i+zOpQ6HTtm3BIfE2PcPWmm6xOvZ184rNu3ztyGfNi8ecaCKwkJVkcizGTmNMklwHogQSm1Xyl1m1lt+YOvMr8C4LI+npfgtYZp04w7VpcuhTZtzG1vUt9JtCpXLJp+gXGLrMyoabKICOPdVmAgFBRYHY0wi5mzaKZorTtrrYO01t201m+Z1ZY/+GL3FyQchfjIeKtDOcsHH8Annxg993POMb+9Ni3bcMXg6/jwvPaUVZTKjBon7NplrAK1cKHVkQgzyBCNFzheepw1tjVcttvqSOp2xRXwxhtGj9Bdrk+8nmMlx1ieudx9jfqg2Fjo1w9+9zvY7aG/X6L5JMF7gVV7VlFWWeZxCf7oUThyxFhUYto0c2bN1Gds7Fg6tO7A/C3z3deoD2rRAhYvhpAQ4x91UZHVEQlXkgTvBb7Y/QXhIeGM8KAFjcrK4De/gfPPh/Jy97ffIqAF95xzD8uzlpPWyf3t+5Ju3Yxhtt27jfrxlZVWRyRcRRK8h6vSVXy1/l0u3lRAUHfPuLlJa2PZvW++MRZ4DgqyJo67zrmLti3b8sR51rTvS0aPNkoYhIbKOq6+RBK8h9v08yaOhFZx2cMLPebmpnnzjDH3Bx+E666zLo7wkHDuGnoXHw6A3XkeNn7lhe64w1iYJTTU+fLOwjNIgvdwn+/6nIAquCT+EqtDAeDjj42LqVdeCY88YnU0cO+59xJcqXj61gSZLukCSsHhwzBkiJHshXeTBO/BSitKeTvtbcZlQ0RohNXhAHDhhUbp2cWL3XtRtT4d23Rk2vC7WJAaxE/HZLqkK7RpA+3aGe/OvvzS6miEMzzgT1TU5/1t73PoxCHu22B1JPDdd8bCzRER8OyzEBxsdUS/eOBXD6DRPDHS6kh8Q+vW8NVXkJJiXEhftcrqiERzSYL3UFprnl//PAOiBzA229pYFiyAUaOMMXdP1DO8J3em3slrqfDdvu+sDscntGsHK1ZAnz5G7ZqVslKiV5IE76FW21aTfjidGcNnoCyKQWt46im46Sa44AKYM8eiQBzw+JjH6VEIt35+K8XlxVaH4xMiImDNGrjmGqM3L7yPJHgP9fz65+nQugPXJVozTaW8HO65B2bNMuZGL1tm9Oo8VZuWbXjzc2M2zew1s60Ox2dERMB770GHDsbvxNtvyzx5byIJ3gPtPLqTrzK/4vdfHiEkKNSSxT2OHIElS4wZMwsXGnererqLKnvy2y3w3Lpn2Jja2epwfM7778Ntt8HYscZyjMLzSYL3QE+ue5LgCrjzq8PGOIkb579v2GAsude1q1Er/LnnPGO2jENsNp75oIAu4d2YfN4hfi762eqIfMoNN8A77xi/I4MGwerVVkckGuMtf7p+4587/8m76e9yz0ZjcQt3OXrUGGsfPty4iQmMt+XeJiwkjE+v/ZS8VjD2vbHknpRlIF3p5pth40YICzPufn3uOasjEg2RBO9BDhw/wG2f38agToN45D/uabOyEv7xD+jb15jb/uCDcOON7mnbLKldUvny3x3Ze3AHF8/oQGF8D6tD8imJibBli3E/xJgxxnMnThjv/IRnkQTvIap0FTc+EEtxYR5LHvqR4G7uGXefOtVYgDkhAX780VinM9QzVwRskvM3HuLjm75ia7cWjL3wJ/Ye22t1SD6ldWvjfoia2TXTpxt3v375pTGqKDyDJHgPoLXm0W8f5d9dSnjhqjdIOGreuPupU/DWW3DwoPH1HXcYF8/WroWBA01p0jKXxl/Kx9d8zO5ISJmfwuL/LbY6JJ81dqxRavjXvzYWfVmwwLgxTlhLErzFSipKmPb5NGavmc11W+G2Qa5f2bCqCr7/3pj22KWLUbv944+NbRdcYMxz9poLqU00MWEiaV90ZWBmEdd/cj2Tb2rNzqM7rQ7L51x/PezcaVy/KSoyruf89a/Gtqoq6dVbRWkP+s6npqbqzZs3Wx2G2+wr3MdVD8WzObqMv3wDs/f2IHCva+qplJUZUxtLS40l2X76yfj6qqvgzjvhvPOMwlL+oqKqgse+fYynVs2hJEhxZb8reeBXDzCs6zCUP30j3EBrY4ZNbKwxw3f5crj9drj8cmPMfuRIiIy0OkrfoZTaorVOrXObmQleKXUx8AIQCLyptX6yof39IcFrrVm/fz2vbn6VD7d9SPDJUt67+Z9MTJjY7HMePAjbtkF6uvHYvNn4A1q71tj+t78ZSf7SS43ZD/4sN6E7L3bdz0vDoDAEuhTBrw+04ZLZC0ntkkqXtl0k4bvY+vXGHdErVvwybDNwoPFPICoKfv7Z+KfQpYvvvpM0kyUJXikVCOwGxgL7gU3AFK319vqO8YUEX1lVSUlFCSUVJRwrOUbeqTyOnDzCttxtpB1KY9OBTew5toe2ZYqpaZr7c7rQZfPPnDpl9LpLS40/guJiSE42etmbNhkXQI8dM6YzHjpkzFr49FOjzSuv/OXzLl2MC19jxrh3jVRvU1RaxKc7PuWL3V+wIu1jTlQXT4tqFUVih0R6hveke7vudGvXjYjQCNqHtCc8JJxWQa1oFdSK0KBQWga2JCggiKDAIAJVIAEqQP45NKC01Phd/uYb4+MnnxgJfdo047pQcDD06mWsMBUT88t03f/8B/LzjTupW7c2Hu3aQe/exvbjx42PQUEQGGg8lPKfd6hWJfjhwByt9fjqr/8PQGv9RH3HNDfBRz7RkfwTp856PiTEWHOystJImGcKDYHAFlBZAcV1XBAKDTV+WSoqoKSk1vdJafv5ldKUV1RRUVkFqhICGpgrdiwGDiVD5gTImMLBnDZ06gR/+Qs8+ujZu588Ca1awX33GYts1LTZubPx+PZbI74NG4x9k5IgOrr+5kXdSnv3ZFPlPtI7QlonyOgAP4XBwTZQ1cQeZYAKMBI96rSEr1CnJX/VQIUhf/snUVUJlVXVY/VVUKVBAaGtjO3FxcbfaG0qwEj0AMWnzi6fEBBo/O2AMbGg6oztgS1+mS126qTRZm0tAiGkevvJk2dfQwhqAcEh1dtPwJlZNCjol4qrJ06c/ZpbBkHLYEDDiZPQPaID++5vXlVBqxL8b4CLtdbTqr+eCgzTWk8/Y7/bgdurv0wAdjWzySjgaDOP9Vbymn2fv71ekNfcVD211nV27Vo0Px7X0Fq/Drzu7HmUUpvr+y/mq+Q1+z5/e70gr9mVzLyk8TPQvdbX3aqfE0II4QZmJvhNQLxSqpdSqiUwGfjcxPaEEELUYtoQjda6Qik1HViBMU3yba31NrPawwXDPF5IXrPv87fXC/KaXcajbnQSQgjhOnJbgRBC+ChJ8EII4aO8LsErpS5WSu1SSmUppWbVsT1YKfV+9faNSqkYC8J0GQde7wyl1Hal1Fal1L+VUu5f38/FGnvNtfa7SimllVJeP6XOkdeslLqm+me9TSnl9aUxHfjd7qGUWq2U+rH69/tSK+J0FaXU20qpI0qpjHq2K6XUi9Xfj61KqcFON6q19poHxsXabKA30BJIB/qfsc/vgdeqP58MvG913Ca/3guBVtWf3+nNr9fR11y9X1vgW2ADkGp13G74OccDPwLtq7/uYHXcbnjNrwN3Vn/eH7BZHbeTr/l8YDCQUc/2S4HlGDfyngtsdLZNb+vBnwNkaa33aK3LgKXApDP2mQS8W/35R8AY5b33fjf6erXWq7XWNXUaNmDcb+DNHPkZAzwCPAX4QtVxR17zb4GXtdbHALTWR9wco6s58po10K768zDggBvjczmt9bdAfgO7TAIWaMMGIFwp5dTq8d6W4LsCP9X6en/1c3Xuo7WuAAoBby1O6sjrre02jB6AN2v0NVe/de2utf7KnYGZyJGfcx+gj1LqO6XUhupKrd7Mkdc8B7hBKbUfWAbc7Z7QLNPUv/dGWV6qQLiGUuoGIBW4wOpYzKSUCgCeB262OBR3a4ExTDMK413at0qpRK11gZVBmWwK8A+t9XPVxQvfU0oN1FrL6q8O8rYevCPlD+z7KKVaYLy1y3NLdK7nULkHpdRFwEPARK11qZtiM0tjr7ktMBBYo5SyYYxVfu7lF1od+TnvBz7XWpdrrfdilOKOd1N8ZnDkNd8GfACgtV4PhGAU5fJVLi/v4m0J3pHyB58DN1V//hvgP7r6CoYXavT1KqUGAfMxkru3j8tCI69Za12otY7SWsdorWMwrjtM1Fp780ICjvxef4bRe0cpFYUxZLPHjTG6miOveR8wBkAp1Q8jwee6NUr3+hy4sXo2zblAodb6oDMn9KohGl1P+QOl1N+AzVrrz4G3MN7KZWFc0JhsXcTOcfD1PgO0AT6svpa8T2vd/OWhLObga/YpDr7mFcA4pdR2oBKYqbX21nemjr7m+4E3lFL3YVxwvdmLO2sopZZg/JOOqr6uMBsIAtBav4ZxneFSIAs4BdzidJte/P0SQgjRAG8bohFCCOEgSfBCCOGjJMELIYSPkgQvhBA+ShK8EEL4KEnwQgjhoyTBCyGEj5IEL7yaUipQKfVCdY30/ymlejeyf6VSKq3WI6aR/b93acBCuJHc6CS8mlLqz8BxrfULSqnfAgla6wca2P+E1rqNk20qjL8dKXolPJr04IXXUkq1Bq7QWr9Q/dReIK6Z5/pMKbWl+p3A7bWeP1H9MaZ69aEFQAYwUim1Qyn1RvUxK5VSodX73qCU+m/1O4T51e8yWiulvlJKpSulMpRS19b1nFPfECHO4FW1aIQ4w0VAd6VUWvXXEcCqRo4JrbX/Xq31FdWf36q1zq9O0puUUh/XUeslHrhJa72hemgnHpiitf6tUuoD4Cql1BbgWmCE1rpcKfUKcD1wEjigtZ4AoJQKAy6u4zkhXEYSvPBmKcDD1YWaUEq9CWxt5JhirXVKHc/fo5SqSfbdMZL3mQk+p3qlnRp7tdZp1Z9vAWKAcGAIxj8JgFDgCLAYeE4p9RTwpdZ6rVLqf2c+10jsQjSJDNEIb9Yeo+peTe3/ccAXTT2JUmoUxruB4VrrZIy1T0Pq2PXkGV/Xrr1fidFhUsC7WuuU6keC1nqO1no3xnqc/wMeVUo9XNdzTY1diIZIghfebDfGgh8A9wFfVS+GgVLq30opR5c7CwOOaa1PKaX61jpnc/wb+I1SqkN1HBFKqZ5KqS7AKa31QowSz4Pres6JdoU4iwzRCG+2BFheXft/PXA72Jf1i6PhBY5r+xfwO6XUDmAXxiIizaK13l49s2dldRzlwF0Y/0SeUUpVVT93J5BYx3NCuIxMkxQ+Ryk1EOOi6QyrYxHCSpLghRDCR8kYvBBC+ChJ8EII4aMkwQshhI+SBC+EED5KErwQQvgoSfBCCOGjJMELIYSP+n9ghR3MNzh8vQAAAABJRU5ErkJggg==\n",
      "text/plain": [
       "<Figure size 432x288 with 1 Axes>"
      ]
     },
     "metadata": {
      "needs_background": "light"
     },
     "output_type": "display_data"
    }
   ],
   "source": [
    "fig = plt.figure()\n",
    "ax = fig.add_subplot(111)\n",
    "\n",
    "# Plot the posterior histogram from MCMC analysis\n",
    "bins = 50\n",
    "plt.hist(\n",
    "    trace[\"theta\"], bins,\n",
    "    histtype=\"step\",  density=True,\n",
    "    label=\"Posterior (MCMC)\", color=\"red\"\n",
    ")\n",
    "\n",
    "# Plot the analytic prior and posterior beta distributions\n",
    "x = np.linspace(0, 1, 100)\n",
    "plt.plot(\n",
    "    x, stats.beta.pdf(x, alpha, beta),\n",
    "    \"--\", label=\"Prior\", color=\"blue\"\n",
    ")\n",
    "plt.plot(\n",
    "    x, stats.beta.pdf(x, alpha_post, beta_post),\n",
    "    label=\"Posterior(Analytic)\", color=\"green\"\n",
    ")\n",
    "\n",
    "# Update the graph labels\n",
    "plt.legend(title=\"Parameters\", loc=\"best\")\n",
    "plt.xlabel(\"$\\\\theta$, Fairness\")\n",
    "plt.ylabel(\"Density\")\n",
    "plt.show()"
   ]
  },
  {
   "cell_type": "markdown",
   "id": "ec8eb33f",
   "metadata": {},
   "source": [
    "# Trace plot\n",
    "<hr style = \"border:2px solid black\" ></hr>"
   ]
  },
  {
   "cell_type": "markdown",
   "id": "a93cb19e",
   "metadata": {},
   "source": [
    "\n",
    "- The trace plot is extremely useful for assessing convergence of an MCMC algorithm and whether we need to exclude a period of initial samples (known as the **burn in**).\n",
    "- In addition we can see that the MCMC sampling procedure has \"converged to the distribution\" since the sampling series looks **stationary**.\n",
    "\n",
""   ]
  },
  {
   "cell_type": "code",
   "execution_count": 11,
   "id": "956fed05",
   "metadata": {
    "ExecuteTime": {
     "end_time": "2022-09-16T05:53:08.603891Z",
     "start_time": "2022-09-16T05:52:42.114624Z"
    }
   },
   "outputs": [
    {
     "name": "stderr",
     "output_type": "stream",
     "text": [
      "/var/folders/5x/lyqr8wv507n43bnwpsz4dq_c0000gn/T/ipykernel_81690/2566792167.py:2: DeprecationWarning: The function `traceplot` from PyMC3 is just an alias for `plot_trace` from ArviZ. Please switch to `pymc3.plot_trace` or `arviz.plot_trace`.\n",
      "  pymc3.traceplot(trace)\n",
      "Got error No model on context stack. trying to find log_likelihood in translation.\n",
      "/opt/anaconda3/envs/trainingAI/lib/python3.9/site-packages/arviz/data/io_pymc3_3x.py:98: FutureWarning: Using `from_pymc3` without the model will be deprecated in a future release. Not using the model will return less accurate and less useful results. Make sure you use the model argument or call from_pymc3 within a model context.\n",
      "  warnings.warn(\n",
      "Got error No model on context stack. trying to find log_likelihood in translation.\n"
     ]
    },
    {
     "data": {
      "image/png": "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\n",
      "text/plain": [
       "<Figure size 864x144 with 2 Axes>"
      ]
     },
     "metadata": {
      "needs_background": "light"
     },
     "output_type": "display_data"
    }
   ],
   "source": [
    "# Show the trace plot\n",
    "pymc3.traceplot(trace)\n",
    "plt.show()"
   ]
  },
  {
   "cell_type": "markdown",
   "id": "5865684f",
   "metadata": {},
   "source": [
    "# References\n",
    "<hr style = \"border:2px solid black\" ></hr>"
   ]
  },
  {
   "cell_type": "markdown",
   "id": "97704b91",
   "metadata": {},
   "source": [
    "\n",
    "- https://www.quantstart.com/advanced-algorithmic-trading-ebook/  \n",
    "- https://www.quantstart.com/articles/Markov-Chain-Monte-Carlo-for-Bayesian-Inference-The-Metropolis-Algorithm/\n",
    "    \n",
""   ]
  },
  {
   "cell_type": "code",
   "execution_count": null,
   "id": "0e7feb71",
   "metadata": {},
   "outputs": [],
   "source": []
  }
 ],
 "metadata": {
  "kernelspec": {
   "display_name": "trainingAI",
   "language": "python",
   "name": "trainingai"
  },
  "language_info": {
   "codemirror_mode": {
    "name": "ipython",
    "version": 3
   },
   "file_extension": ".py",
   "mimetype": "text/x-python",
   "name": "python",
   "nbconvert_exporter": "python",
   "pygments_lexer": "ipython3",
   "version": "3.9.7"
  },
  "toc": {
   "base_numbering": 1,
   "nav_menu": {},
   "number_sections": true,
   "sideBar": true,
   "skip_h1_title": false,
   "title_cell": "Table of Contents",
   "title_sidebar": "Contents",
   "toc_cell": true,
   "toc_position": {},
   "toc_section_display": true,
   "toc_window_display": true
  },
  "varInspector": {
   "cols": {
    "lenName": 16,
    "lenType": 16,
    "lenVar": 40
   },
   "kernels_config": {
    "python": {
     "delete_cmd_postfix": "",
     "delete_cmd_prefix": "del ",
     "library": "var_list.py",
     "varRefreshCmd": "print(var_dic_list())"
    },
    "r": {
     "delete_cmd_postfix": ") ",
     "delete_cmd_prefix": "rm(",
     "library": "var_list.r",
     "varRefreshCmd": "cat(var_dic_list()) "
    }
   },
   "types_to_exclude": [
    "module",
    "function",
    "builtin_function_or_method",
    "instance",
    "_Feature"
   ],
   "window_display": false
  }
 },
 "nbformat": 4,
 "nbformat_minor": 5
}
